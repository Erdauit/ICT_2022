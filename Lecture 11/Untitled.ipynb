{
 "cells": [
  {
   "cell_type": "code",
   "execution_count": 1,
   "id": "214ad2e1",
   "metadata": {},
   "outputs": [],
   "source": [
    "import numpy as np\n",
    "import sklearn.linear_model as skmod\n",
    "import sklearn.preprocessing as skprepro\n",
    "import matplotlib.pyplot as plt\n",
    "\n",
    "arr1 = [6, 10, 2, 3, 4, 0, 7, 8, 9, 1]\n",
    "arr2 = [130, 21, 43, 76, 105, 3, 167, 162, 91, 15]"
   ]
  },
  {
   "cell_type": "code",
   "execution_count": 2,
   "id": "09aa0739",
   "metadata": {},
   "outputs": [],
   "source": [
    "arr_x = np.array(arr1).reshape(-1,1)\n",
    "arr_y = np.array(arr2).reshape(-1,1)"
   ]
  },
  {
   "cell_type": "code",
   "execution_count": 5,
   "id": "33eb1c5f",
   "metadata": {},
   "outputs": [],
   "source": [
    "poly2 = skprepro.PolynomialFeatures(degree = 8, include_bias = False)"
   ]
  },
  {
   "cell_type": "code",
   "execution_count": 8,
   "id": "f2274006",
   "metadata": {},
   "outputs": [
    {
     "name": "stdout",
     "output_type": "stream",
     "text": [
      "[[ 4.64288632e+01 -8.12079635e+01  6.74485406e+01 -2.38710248e+01\n",
      "   4.20411268e+00 -3.74085602e-01  1.49834019e-02 -1.72233273e-04]]\n"
     ]
    }
   ],
   "source": [
    "arr_x_poly = poly2.fit_transform(arr_x)\n",
    "# print(arr_x_poly)\n",
    "model = skmod.LinearRegression().fit(arr_x_poly, arr_y)\n",
    "print(model.coef_)"
   ]
  },
  {
   "cell_type": "code",
   "execution_count": 9,
   "id": "d3b6fe30",
   "metadata": {},
   "outputs": [],
   "source": [
    "a = [22, 85, 96, 81, 68, 97, 29, 61, 73, 86]\n",
    "b = [1489022, 1073767, 1975250, 1493073, 1063635, 1017921, 1206827, 1217274, 1933018, 1325618]\n",
    "c = [-99.67, -99.37, -99.08, -99.54, -99.8, -99.21, -99.73, -99.78, -99.6, -99.48]\n",
    "d = [-182, -254.3,  -71  , -172, -261 , -262, -237, -231, -85, -204]"
   ]
  },
  {
   "cell_type": "code",
   "execution_count": 16,
   "id": "1ca70fe3",
   "metadata": {},
   "outputs": [],
   "source": [
    "data_x1 = np.array(a).reshape(-1,1)\n",
    "data_x2 = np.array(b).reshape(-1,1)\n",
    "data_x3 = np.array(c).reshape(-1,1)\n",
    "data_x4 = np.array(d).reshape(-1,1)"
   ]
  },
  {
   "cell_type": "code",
   "execution_count": 17,
   "id": "78e846bb",
   "metadata": {},
   "outputs": [
    {
     "name": "stdout",
     "output_type": "stream",
     "text": [
      "[[ 2.200000e+01  1.489022e+06 -9.967000e+01 -1.820000e+02]\n",
      " [ 8.500000e+01  1.073767e+06 -9.937000e+01 -2.543000e+02]\n",
      " [ 9.600000e+01  1.975250e+06 -9.908000e+01 -7.100000e+01]\n",
      " [ 8.100000e+01  1.493073e+06 -9.954000e+01 -1.720000e+02]\n",
      " [ 6.800000e+01  1.063635e+06 -9.980000e+01 -2.610000e+02]\n",
      " [ 9.700000e+01  1.017921e+06 -9.921000e+01 -2.620000e+02]\n",
      " [ 2.900000e+01  1.206827e+06 -9.973000e+01 -2.370000e+02]\n",
      " [ 6.100000e+01  1.217274e+06 -9.978000e+01 -2.310000e+02]\n",
      " [ 7.300000e+01  1.933018e+06 -9.960000e+01 -8.500000e+01]\n",
      " [ 8.600000e+01  1.325618e+06 -9.948000e+01 -2.040000e+02]]\n"
     ]
    }
   ],
   "source": [
    "scaler = skprepro.StandardScaler()\n",
    "\n",
    "data_x = np.hstack([data_x1.reshape(-1,1), data_x2.reshape(-1,1),data_x3.reshape(-1,1), data_x4.reshape(-1,1)])\n",
    "print(data_x)"
   ]
  },
  {
   "cell_type": "code",
   "execution_count": 18,
   "id": "44dadf26",
   "metadata": {},
   "outputs": [
    {
     "name": "stdout",
     "output_type": "stream",
     "text": [
      "[[-1.93765385  0.33481781 -0.62382688  0.21079983]\n",
      " [ 0.61615771 -0.93512067  0.67581245 -0.88330123]\n",
      " [ 1.06206131  1.82180687  1.93213047  1.89054004]\n",
      " [ 0.45401094  0.34720663 -0.06064984  0.36212778]\n",
      " [-0.07296604 -0.96610649 -1.18700392 -0.98469095]\n",
      " [ 1.10259801 -1.10590966  1.36895343 -0.99982374]\n",
      " [-1.65389701 -0.52819477 -0.88375474 -0.62150388]\n",
      " [-0.35672288 -0.49624561 -1.1003613  -0.53070711]\n",
      " [ 0.12971741  1.6926524  -0.3205777   1.67868091]\n",
      " [ 0.6566944  -0.16490652  0.19927803 -0.12212165]]\n"
     ]
    }
   ],
   "source": [
    "scaler_f = scaler.fit_transform(data_x)\n",
    "# data_x_stan = scaler_f.transform(data_x)\n",
    "print(scaler_f)\n",
    "# print(scaler_f.transform([[3, 3]]))"
   ]
  },
  {
   "cell_type": "code",
   "execution_count": null,
   "id": "bd937089",
   "metadata": {},
   "outputs": [],
   "source": []
  }
 ],
 "metadata": {
  "kernelspec": {
   "display_name": "Python 3 (ipykernel)",
   "language": "python",
   "name": "python3"
  },
  "language_info": {
   "codemirror_mode": {
    "name": "ipython",
    "version": 3
   },
   "file_extension": ".py",
   "mimetype": "text/x-python",
   "name": "python",
   "nbconvert_exporter": "python",
   "pygments_lexer": "ipython3",
   "version": "3.9.12"
  }
 },
 "nbformat": 4,
 "nbformat_minor": 5
}
