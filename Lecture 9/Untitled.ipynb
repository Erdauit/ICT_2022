{
 "cells": [
  {
   "cell_type": "code",
   "execution_count": 1,
   "id": "f36f2ecb",
   "metadata": {},
   "outputs": [],
   "source": [
    "#Machine Learning \n",
    "\n",
    "#label - data that i want to guess\n",
    "\n",
    "#feature(s) - the input variable(s) it can be several \n",
    "\n",
    "#labelled - with label and feature\n",
    "#unlabelled - without label, only input\n",
    "\n",
    "#model - system that defines the rel. between the feature and label\n",
    "    #Training phase - show how it works \n",
    "\n",
    "    \n",
    "\n"
   ]
  },
  {
   "cell_type": "code",
   "execution_count": 2,
   "id": "8e7bd4bb",
   "metadata": {},
   "outputs": [
    {
     "name": "stdout",
     "output_type": "stream",
     "text": [
      "[[1 2 3]\n",
      " [1 2 3]]\n"
     ]
    }
   ],
   "source": [
    "import numpy as np\n",
    "\n",
    "array = np.array([[1, 2, 3], [1, 2, 3]])\n",
    "print(array)"
   ]
  },
  {
   "cell_type": "code",
   "execution_count": 9,
   "id": "5c57903e",
   "metadata": {},
   "outputs": [
    {
     "name": "stdout",
     "output_type": "stream",
     "text": [
      "[55, 2, 3]\n",
      "[1, 2, 3]\n"
     ]
    }
   ],
   "source": [
    "list0 = [1,2,3]\n",
    "list1 = list0.copy()\n",
    "list1[0] = 55\n",
    "print(list1)\n",
    "print(list0)"
   ]
  },
  {
   "cell_type": "code",
   "execution_count": 11,
   "id": "66c3e4bd",
   "metadata": {},
   "outputs": [
    {
     "name": "stdout",
     "output_type": "stream",
     "text": [
      "[1 2 3]\n",
      "[ 1 50  3]\n"
     ]
    }
   ],
   "source": [
    "array = np.array([1, 2, 3])\n",
    "arr0 = array.copy()\n",
    "arr0[1] = 50\n",
    "print(array)\n",
    "print(arr0)"
   ]
  },
  {
   "cell_type": "code",
   "execution_count": 14,
   "id": "f534573e",
   "metadata": {},
   "outputs": [
    {
     "name": "stdout",
     "output_type": "stream",
     "text": [
      "[[1 2]\n",
      " [3 4]\n",
      " [5 6]]\n"
     ]
    }
   ],
   "source": [
    "array = np.array([1, 2, 3, 4, 5, 6])\n",
    "print(array.reshape((3,2)))"
   ]
  },
  {
   "cell_type": "code",
   "execution_count": 16,
   "id": "77afa404",
   "metadata": {},
   "outputs": [
    {
     "name": "stdout",
     "output_type": "stream",
     "text": [
      "[[1 2 3]\n",
      " [4 5 6]]\n"
     ]
    }
   ],
   "source": [
    "array = np.array([1, 2, 3, 4, 5, 6])\n",
    "print(array.reshape((2,3)))"
   ]
  },
  {
   "cell_type": "code",
   "execution_count": 23,
   "id": "273a8014",
   "metadata": {},
   "outputs": [
    {
     "name": "stdout",
     "output_type": "stream",
     "text": [
      "[[1]\n",
      " [2]\n",
      " [3]\n",
      " [4]\n",
      " [5]\n",
      " [6]]\n"
     ]
    }
   ],
   "source": [
    "array = np.array([1, 2, 3, 4, 5, 6])\n",
    "print(array.reshape((6,-1)))"
   ]
  },
  {
   "cell_type": "code",
   "execution_count": 5,
   "id": "ad884d2d",
   "metadata": {},
   "outputs": [
    {
     "name": "stdout",
     "output_type": "stream",
     "text": [
      "--------------------\n",
      "[[ 1  7]\n",
      " [ 2  8]\n",
      " [ 3  9]\n",
      " [ 4 10]\n",
      " [ 5 11]\n",
      " [ 6 12]]\n"
     ]
    }
   ],
   "source": [
    "array0 = np.array([1, 2, 3, 4, 5, 6])\n",
    "array0= array0.reshape((-1,1))\n",
    "array1 = np.array([7, 8, 9, 10, 11, 12])\n",
    "array1 = array1.reshape((-1,1))\n",
    "print(\"-\"*20)\n",
    "\n",
    "print(np.hstack([array0, array1]))"
   ]
  },
  {
   "cell_type": "code",
   "execution_count": 29,
   "id": "2ac8f0c0",
   "metadata": {},
   "outputs": [
    {
     "name": "stdout",
     "output_type": "stream",
     "text": [
      "[[ 1  5]\n",
      " [ 9 31]\n",
      " [45 78]]\n"
     ]
    }
   ],
   "source": [
    "array = np.array([1, 5, 9, 31, 45, 78])\n",
    "array2 = array.copy()\n",
    "print(array2.reshape((-1,2)))"
   ]
  },
  {
   "cell_type": "code",
   "execution_count": null,
   "id": "d7cb0363",
   "metadata": {},
   "outputs": [],
   "source": []
  }
 ],
 "metadata": {
  "kernelspec": {
   "display_name": "Python 3 (ipykernel)",
   "language": "python",
   "name": "python3"
  },
  "language_info": {
   "codemirror_mode": {
    "name": "ipython",
    "version": 3
   },
   "file_extension": ".py",
   "mimetype": "text/x-python",
   "name": "python",
   "nbconvert_exporter": "python",
   "pygments_lexer": "ipython3",
   "version": "3.9.12"
  }
 },
 "nbformat": 4,
 "nbformat_minor": 5
}
