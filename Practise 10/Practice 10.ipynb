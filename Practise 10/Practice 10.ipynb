{
 "cells": [
  {
   "cell_type": "code",
   "execution_count": 1,
   "id": "eb4f4050",
   "metadata": {},
   "outputs": [],
   "source": [
    "import numpy as np\n",
    "import sklearn.linear_model as skmod"
   ]
  },
  {
   "cell_type": "code",
   "execution_count": 2,
   "id": "02f4651c",
   "metadata": {},
   "outputs": [],
   "source": [
    "arr1 = [6, 10, 2, 3, 4, 0, 7, 8, 9, 1]\n",
    "arr2 = [130, 21, 43, 76, 105, 3, 167, 162, 91, 15]"
   ]
  },
  {
   "cell_type": "code",
   "execution_count": 12,
   "id": "e86f63e9",
   "metadata": {},
   "outputs": [],
   "source": [
    "arr_x = np.array(arr1).reshape(-1,1)\n",
    "arr_y = np.array(arr2).reshape(-1,1)"
   ]
  },
  {
   "cell_type": "code",
   "execution_count": 18,
   "id": "1c2ea857",
   "metadata": {},
   "outputs": [],
   "source": [
    "arr_x2 = []\n",
    "\n",
    "for i in arr_x:\n",
    "    arr_x2.append(i*i)\n",
    "arr_x3 = []\n",
    "\n",
    "for i in arr_x:\n",
    "    arr_x3.append(i * i * i)\n",
    "    \n",
    "arr_x2 = np.array(arr_x2).reshape(-1,1)\n",
    "arr_x3 = np.array(arr_x3).reshape(-1,1)"
   ]
  },
  {
   "cell_type": "code",
   "execution_count": 54,
   "id": "bdc8e722",
   "metadata": {},
   "outputs": [
    {
     "name": "stdout",
     "output_type": "stream",
     "text": [
      "[[ 6]\n",
      " [10]\n",
      " [ 2]\n",
      " [ 3]\n",
      " [ 4]\n",
      " [ 0]\n",
      " [ 7]\n",
      " [ 8]\n",
      " [ 9]\n",
      " [ 1]]\n",
      "[[130]\n",
      " [ 21]\n",
      " [ 43]\n",
      " [ 76]\n",
      " [105]\n",
      " [  3]\n",
      " [167]\n",
      " [162]\n",
      " [ 91]\n",
      " [ 15]]\n",
      "[[ 36]\n",
      " [100]\n",
      " [  4]\n",
      " [  9]\n",
      " [ 16]\n",
      " [  0]\n",
      " [ 49]\n",
      " [ 64]\n",
      " [ 81]\n",
      " [  1]]\n",
      "[[ 216]\n",
      " [1000]\n",
      " [   8]\n",
      " [  27]\n",
      " [  64]\n",
      " [   0]\n",
      " [ 343]\n",
      " [ 512]\n",
      " [ 729]\n",
      " [   1]]\n"
     ]
    }
   ],
   "source": [
    "print(arr_x)\n",
    "print(arr_y)\n",
    "print(arr_x2)\n",
    "print(arr_x3)"
   ]
  },
  {
   "cell_type": "code",
   "execution_count": 55,
   "id": "ad1fcfb9",
   "metadata": {},
   "outputs": [
    {
     "data": {
      "text/plain": [
       "<matplotlib.collections.PathCollection at 0x7fb42803faf0>"
      ]
     },
     "execution_count": 55,
     "metadata": {},
     "output_type": "execute_result"
    },
    {
     "data": {
      "image/png": "[encoded data removed]",
      "text/plain": [
       "<Figure size 432x288 with 1 Axes>"
      ]
     },
     "metadata": {
      "needs_background": "light"
     },
     "output_type": "display_data"
    }
   ],
   "source": [
    "import matplotlib.pyplot as plt\n",
    "plt.scatter(arr_x, arr_y)"
   ]
  },
  {
   "cell_type": "code",
   "execution_count": 20,
   "id": "434ccdb3",
   "metadata": {},
   "outputs": [],
   "source": [
    "model = skmod.LinearRegression()"
   ]
  },
  {
   "cell_type": "code",
   "execution_count": 21,
   "id": "5bac4070",
   "metadata": {},
   "outputs": [],
   "source": [
    "model_trained = model.fit(arr_x, arr_y)"
   ]
  },
  {
   "cell_type": "code",
   "execution_count": 22,
   "id": "70922641",
   "metadata": {},
   "outputs": [
    {
     "name": "stdout",
     "output_type": "stream",
     "text": [
      "8.709090909090913\n",
      "37.754545454545436\n",
      "0.2563850855018296\n"
     ]
    }
   ],
   "source": [
    "print(model_trained.coef_[0][0])\n",
    "print(model_trained.intercept_[0])\n",
    "\n",
    "print(model_trained.score(arr_x, arr_y))"
   ]
  },
  {
   "cell_type": "code",
   "execution_count": 26,
   "id": "32701fcc",
   "metadata": {},
   "outputs": [
    {
     "name": "stdout",
     "output_type": "stream",
     "text": [
      "The most accurate linear regression has the following equation: y' = 8.71*x + 37.75\n",
      "Accuracy of the model:0.2563850855018296\n"
     ]
    }
   ],
   "source": [
    "#Linear regression\n",
    "w1 = model_trained.coef_[0][0]\n",
    "b = model_trained.intercept_[0]\n",
    "\n",
    "print(\"The most accurate linear regression has the following equation: y' = {:0.2f}*x + {:0.2f}\".format(w1, b))\n",
    "\n",
    "print(\"Accuracy of the model:\" + str(model_trained.score(arr_x, arr_y)))\n"
   ]
  },
  {
   "cell_type": "code",
   "execution_count": 56,
   "id": "f5d2660c",
   "metadata": {},
   "outputs": [
    {
     "data": {
      "text/plain": [
       "[<matplotlib.lines.Line2D at 0x7fb45b3de610>]"
      ]
     },
     "execution_count": 56,
     "metadata": {},
     "output_type": "execute_result"
    },
    {
     "data": {
      "image/png": "[encoded data removed]",
      "text/plain": [
       "<Figure size 432x288 with 1 Axes>"
      ]
     },
     "metadata": {
      "needs_background": "light"
     },
     "output_type": "display_data"
    }
   ],
   "source": [
    "plt.scatter(arr_x, arr_y)\n",
    "\n",
    "plt.plot([0, 10], [8.71 * 0 + 37.75, 8.71 * 10 + 37.75])"
   ]
  },
  {
   "cell_type": "code",
   "execution_count": 68,
   "id": "d2b32a90",
   "metadata": {},
   "outputs": [],
   "source": [
    "#Polynomial regression\n",
    "arr_x1x2 = np.hstack([arr_x, arr_x2])\n",
    "arr_x1x3 = np.hstack([arr_x, arr_x2, arr_x3])"
   ]
  },
  {
   "cell_type": "code",
   "execution_count": 69,
   "id": "66793a92",
   "metadata": {},
   "outputs": [
    {
     "name": "stdout",
     "output_type": "stream",
     "text": [
      "[[  6  36]\n",
      " [ 10 100]\n",
      " [  2   4]\n",
      " [  3   9]\n",
      " [  4  16]\n",
      " [  0   0]\n",
      " [  7  49]\n",
      " [  8  64]\n",
      " [  9  81]\n",
      " [  1   1]]\n",
      "[[   6   36  216]\n",
      " [  10  100 1000]\n",
      " [   2    4    8]\n",
      " [   3    9   27]\n",
      " [   4   16   64]\n",
      " [   0    0    0]\n",
      " [   7   49  343]\n",
      " [   8   64  512]\n",
      " [   9   81  729]\n",
      " [   1    1    1]]\n"
     ]
    }
   ],
   "source": [
    "print(arr_x1x2)\n",
    "print(arr_x1x3)"
   ]
  },
  {
   "cell_type": "code",
   "execution_count": 70,
   "id": "8717508b",
   "metadata": {},
   "outputs": [],
   "source": [
    "model1 = skmod.LinearRegression().fit(arr_x1x2, arr_y)\n",
    "model2 = skmod.LinearRegression().fit(arr_x1x3, arr_y)"
   ]
  },
  {
   "cell_type": "code",
   "execution_count": 71,
   "id": "2b9131ca",
   "metadata": {},
   "outputs": [],
   "source": [
    "w1 = model1.coef_[0][0]\n",
    "w2 = model1.coef_[0][1]\n",
    "b = model1.intercept_[0]"
   ]
  },
  {
   "cell_type": "code",
   "execution_count": 72,
   "id": "97d5f535",
   "metadata": {},
   "outputs": [
    {
     "name": "stdout",
     "output_type": "stream",
     "text": [
      "The most accurate polynomial regression has the following equation: y' = -4.81*x^2 + 56.77x + -29.53\n",
      "Accuracy of the model:0.7873314069982928\n"
     ]
    }
   ],
   "source": [
    "print(\"The most accurate polynomial regression has the following equation: y' = {:0.2f}*x^2 + {:0.2f}x + {:0.2f}\".format(w2, w1, b))\n",
    "print(\"Accuracy of the model:\" + str(model1.score(arr_x1x2, arr_y)))"
   ]
  },
  {
   "cell_type": "code",
   "execution_count": 73,
   "id": "903cd850",
   "metadata": {},
   "outputs": [],
   "source": [
    "w11 = model2.coef_[0][0]\n",
    "w22 = model2.coef_[0][1]\n",
    "w33 = model2.coef_[0][2]\n",
    "b1 = model2.intercept_[0]\n",
    " "
   ]
  },
  {
   "cell_type": "code",
   "execution_count": 74,
   "id": "52c4afae",
   "metadata": {},
   "outputs": [
    {
     "name": "stdout",
     "output_type": "stream",
     "text": [
      "The most accurate polynomial regression has the following equation: y' = -0.97*x^3 + 9.70*x^2 + 1.47x + 5.27\n",
      "Accuracy of the model:0.9647635974198109\n"
     ]
    }
   ],
   "source": [
    "print(\"The most accurate polynomial regression has the following equation: y' = {:0.2f}*x^3 + {:0.2f}*x^2 + {:0.2f}x + {:0.2f}\".format(w33, w22, w11, b1))\n",
    "print(\"Accuracy of the model:\" + str(model2.score(arr_x1x3, arr_y)))"
   ]
  },
  {
   "cell_type": "code",
   "execution_count": 78,
   "id": "24c8864a",
   "metadata": {},
   "outputs": [
    {
     "data": {
      "text/plain": [
       "[<matplotlib.lines.Line2D at 0x7fb448e3bc10>]"
      ]
     },
     "execution_count": 78,
     "metadata": {},
     "output_type": "execute_result"
    },
    {
     "data": {
      "image/png": "[encoded data removed]",
      "text/plain": [
       "<Figure size 432x288 with 1 Axes>"
      ]
     },
     "metadata": {
      "needs_background": "light"
     },
     "output_type": "display_data"
    }
   ],
   "source": [
    "plt.scatter(arr_x, arr_y)\n",
    "\n",
    "plt.plot([0, 10], [8.71 * 0 + 37.75, 8.71 * 10 + 37.75])"
   ]
  },
  {
   "cell_type": "code",
   "execution_count": null,
   "id": "0d0375e7",
   "metadata": {},
   "outputs": [],
   "source": []
  },
  {
   "cell_type": "code",
   "execution_count": 80,
   "id": "41624df6",
   "metadata": {},
   "outputs": [
    {
     "data": {
      "text/plain": [
       "[<matplotlib.lines.Line2D at 0x7fb3f80355b0>]"
      ]
     },
     "execution_count": 80,
     "metadata": {},
     "output_type": "execute_result"
    },
    {
     "data": {
      "image/png": "[encoded data removed]",
      "text/plain": [
       "<Figure size 432x288 with 1 Axes>"
      ]
     },
     "metadata": {
      "needs_background": "light"
     },
     "output_type": "display_data"
    }
   ],
   "source": [
    "plt.scatter(arr_x, arr_y)\n",
    "\n",
    "x_final = np.hstack([x_for_plot.reshape(-1,1),x2_for_plot.reshape(-1,1) ])\n",
    "y2_for_plot = model1.predict(x_final)\n",
    "plt.plot(x_for_plot, y2_for_plot)"
   ]
  },
  {
   "cell_type": "code",
   "execution_count": 81,
   "id": "c3d380f5",
   "metadata": {},
   "outputs": [
    {
     "data": {
      "text/plain": [
       "[<matplotlib.lines.Line2D at 0x7fb4491d1a00>]"
      ]
     },
     "execution_count": 81,
     "metadata": {},
     "output_type": "execute_result"
    },
    {
     "data": {
      "image/png": "[encoded data removed]",
      "text/plain": [
       "<Figure size 432x288 with 1 Axes>"
      ]
     },
     "metadata": {
      "needs_background": "light"
     },
     "output_type": "display_data"
    }
   ],
   "source": [
    "plt.scatter(arr_x, arr_y)\n",
    "\n",
    "\n",
    "x_final2 =  np.hstack([x_for_plot.reshape(-1,1),x2_for_plot.reshape(-1,1),x3_for_plot.reshape(-1,1) ])\n",
    "y3_for_plot = model2.predict(x_final2)\n",
    "plt.plot(x_for_plot, y3_for_plot)"
   ]
  },
  {
   "cell_type": "code",
   "execution_count": null,
   "id": "b557d14a",
   "metadata": {},
   "outputs": [],
   "source": []
  }
 ],
 "metadata": {
  "kernelspec": {
   "display_name": "Python 3 (ipykernel)",
   "language": "python",
   "name": "python3"
  },
  "language_info": {
   "codemirror_mode": {
    "name": "ipython",
    "version": 3
   },
   "file_extension": ".py",
   "mimetype": "text/x-python",
   "name": "python",
   "nbconvert_exporter": "python",
   "pygments_lexer": "ipython3",
   "version": "3.9.12"
  }
 },
 "nbformat": 4,
 "nbformat_minor": 5
}
