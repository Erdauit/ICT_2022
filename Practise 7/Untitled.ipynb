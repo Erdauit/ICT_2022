{
 "cells": [
  {
   "cell_type": "code",
   "execution_count": 1,
   "id": "58527d3a",
   "metadata": {},
   "outputs": [
    {
     "name": "stdout",
     "output_type": "stream",
     "text": [
      "           Date  Open  High   Low  Close  Adj Close  Volume     Name\n",
      "0    2021-10-04  7.24  7.24  7.10   7.10   6.614888   36286  ABCA.PA\n",
      "1    2021-10-05  7.10  7.20  7.10   7.20   6.708055   20809  ABCA.PA\n",
      "2    2021-10-06  7.20  7.20  7.10   7.10   6.614888   34549  ABCA.PA\n",
      "3    2021-10-07  7.10  7.15  7.10   7.10   6.614888   21853  ABCA.PA\n",
      "4    2021-10-08  7.11  7.15  7.09   7.12   6.633522   26482  ABCA.PA\n",
      "..          ...   ...   ...   ...    ...        ...     ...      ...\n",
      "255  2022-09-28  6.40  6.43  6.36   6.36   6.264217   51966  ABCA.PA\n",
      "256  2022-09-29  6.40  6.40  6.30   6.36   6.264217   16227  ABCA.PA\n",
      "257  2022-09-30  6.32  6.46  6.32   6.40   6.303615   23938  ABCA.PA\n",
      "258  2022-10-03  6.40  6.40  6.34   6.35   6.254367   32339  ABCA.PA\n",
      "259  2022-10-04  6.36  6.39  6.31   6.35   6.254367   57740  ABCA.PA\n",
      "\n",
      "[260 rows x 8 columns]\n"
     ]
    }
   ],
   "source": [
    "import pandas as pd\n",
    "import requests\n",
    "import csv\n",
    "import io\n",
    "\n",
    "allall = []\n",
    "with open(r\"/Users/erdauit/Desktop/ICThome/list_symbols_euronext.csv\", 'r') as a:\n",
    "    csvfile1 = csv.reader(a)\n",
    "    for i in csvfile1:\n",
    "        allall += i  \n",
    "with open(r\"/Users/erdauit/Desktop/ICThome/list_symbols_US.csv\", 'r') as b:\n",
    "    csvfile2 = csv.reader(b)\n",
    "    for i in csvfile2:\n",
    "        allall += i  \n",
    "        \n",
    "\n",
    "l = []\n",
    "\n",
    "for i in range(12):\n",
    "    try:\n",
    "        url = \"https://query1.finance.yahoo.com/v7/finance/download/\"+allall[i]+\"?period1=1633376542&period2=1664912542&interval=1d&events=history&includeAdjustedClose=true\"\n",
    "    #     resp = requests.get(url, headers = headers, params = params)\n",
    "        df = pd.read_csv(url)\n",
    "        df['Name'] = allall[i]\n",
    "#         print(df)\n",
    "        l.append(df)\n",
    "    except:\n",
    "        pass\n",
    "print(df.reset_index(drop=True))"
   ]
  },
  {
   "cell_type": "code",
   "execution_count": null,
   "id": "9c1fa2eb",
   "metadata": {},
   "outputs": [],
   "source": []
  }
 ],
 "metadata": {
  "kernelspec": {
   "display_name": "Python 3 (ipykernel)",
   "language": "python",
   "name": "python3"
  },
  "language_info": {
   "codemirror_mode": {
    "name": "ipython",
    "version": 3
   },
   "file_extension": ".py",
   "mimetype": "text/x-python",
   "name": "python",
   "nbconvert_exporter": "python",
   "pygments_lexer": "ipython3",
   "version": "3.9.12"
  }
 },
 "nbformat": 4,
 "nbformat_minor": 5
}
