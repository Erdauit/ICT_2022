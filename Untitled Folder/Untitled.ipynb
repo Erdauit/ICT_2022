{
 "cells": [
  {
   "cell_type": "code",
   "execution_count": 9,
   "id": "16ca3522",
   "metadata": {},
   "outputs": [],
   "source": [
    "import pandas as pd"
   ]
  },
  {
   "cell_type": "code",
   "execution_count": 27,
   "id": "aec4c168",
   "metadata": {},
   "outputs": [
    {
     "name": "stdout",
     "output_type": "stream",
     "text": [
      "2001-01-30\n",
      "Date         2005-01-25\n",
      "Open                9.5\n",
      "High               9.72\n",
      "Low                9.25\n",
      "Close              9.44\n",
      "Adj Close          9.44\n",
      "Volume          1266500\n",
      "Name: 1000, dtype: object\n"
     ]
    }
   ],
   "source": [
    "df = pd.read_csv('ALGN.csv', header = 0)\n",
    "\n",
    "print(df['Date'][0]) \n",
    "print(df.loc[1000, :])"
   ]
  },
  {
   "cell_type": "code",
   "execution_count": 29,
   "id": "e57fcedd",
   "metadata": {},
   "outputs": [
    {
     "name": "stdout",
     "output_type": "stream",
     "text": [
      "605.48999\n"
     ]
    }
   ],
   "source": [
    "print(df.iloc[5245, 3])"
   ]
  },
  {
   "cell_type": "code",
   "execution_count": 35,
   "id": "45103a7e",
   "metadata": {},
   "outputs": [
    {
     "name": "stdout",
     "output_type": "stream",
     "text": [
      "      High      Low    Close\n",
      "1  17.1875  13.4375  13.5000\n",
      "2  14.3750  13.0000  14.1875\n",
      "3  14.5625  13.7500  14.1250\n",
      "4  14.5000  13.8750  14.1250\n",
      "5  14.0625  13.8750  14.0000\n",
      "6  14.0625  13.0000  13.0625\n",
      "7  13.1875  13.0000  13.0625\n",
      "8  13.0625  11.8750  12.0000\n",
      "9  12.1250  10.9375  11.0625\n"
     ]
    }
   ],
   "source": [
    "print(df.iloc[range(1,10), range(2,5)])"
   ]
  },
  {
   "cell_type": "code",
   "execution_count": 38,
   "id": "5fb07475",
   "metadata": {},
   "outputs": [
    {
     "name": "stdout",
     "output_type": "stream",
     "text": [
      "0       False\n",
      "1       False\n",
      "2       False\n",
      "3       False\n",
      "4       False\n",
      "        ...  \n",
      "5431     True\n",
      "5432     True\n",
      "5433     True\n",
      "5434     True\n",
      "5435     True\n",
      "Name: Low, Length: 5436, dtype: bool\n"
     ]
    }
   ],
   "source": [
    "a = 100\n",
    "print(df['Low'] > a)"
   ]
  },
  {
   "cell_type": "code",
   "execution_count": 44,
   "id": "1c11b5bf",
   "metadata": {},
   "outputs": [
    {
     "name": "stdout",
     "output_type": "stream",
     "text": [
      "            Date        Open        High         Low       Close   Adj Close  \\\n",
      "3996  2016-12-16  100.180000  101.790001  100.019997  101.139999  101.139999   \n",
      "3997  2016-12-19  101.559998  102.099998  100.089996  100.250000  100.250000   \n",
      "4039  2017-02-21  102.279999  102.900002  101.059998  101.860001  101.860001   \n",
      "4040  2017-02-22  100.610001  101.199997  100.029999  101.089996  101.089996   \n",
      "4041  2017-02-23  101.209999  101.650002  100.269997  101.160004  101.160004   \n",
      "...          ...         ...         ...         ...         ...         ...   \n",
      "5431  2022-08-31  250.210007  252.500000  243.000000  243.699997  243.699997   \n",
      "5432  2022-09-01  238.960007  245.970001  234.009995  245.740005  245.740005   \n",
      "5433  2022-09-02  249.539993  250.940002  241.919998  244.509995  244.509995   \n",
      "5434  2022-09-06  244.550003  244.809998  234.550003  238.990005  238.990005   \n",
      "5435  2022-09-07  239.229996  250.289993  237.660004  249.940002  249.940002   \n",
      "\n",
      "       Volume  \n",
      "3996  1401900  \n",
      "3997   738700  \n",
      "4039   571800  \n",
      "4040   870900  \n",
      "4041   610400  \n",
      "...       ...  \n",
      "5431   530500  \n",
      "5432   654200  \n",
      "5433   603100  \n",
      "5434   652200  \n",
      "5435   594700  \n",
      "\n",
      "[1399 rows x 7 columns]\n"
     ]
    }
   ],
   "source": [
    "print(df[   (df['Low'] > a) & (df['High'] >50)])"
   ]
  },
  {
   "cell_type": "code",
   "execution_count": null,
   "id": "92807b38",
   "metadata": {},
   "outputs": [],
   "source": []
  }
 ],
 "metadata": {
  "kernelspec": {
   "display_name": "Python 3 (ipykernel)",
   "language": "python",
   "name": "python3"
  },
  "language_info": {
   "codemirror_mode": {
    "name": "ipython",
    "version": 3
   },
   "file_extension": ".py",
   "mimetype": "text/x-python",
   "name": "python",
   "nbconvert_exporter": "python",
   "pygments_lexer": "ipython3",
   "version": "3.9.12"
  }
 },
 "nbformat": 4,
 "nbformat_minor": 5
}
