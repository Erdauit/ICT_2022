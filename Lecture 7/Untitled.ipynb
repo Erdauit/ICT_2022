{
 "cells": [
  {
   "cell_type": "code",
   "execution_count": 1,
   "id": "47b0a47a",
   "metadata": {},
   "outputs": [
    {
     "name": "stdout",
     "output_type": "stream",
     "text": [
      "Date         1\n",
      "Open         1\n",
      "High         2\n",
      "Low          2\n",
      "Close        3\n",
      "Adj Close    1\n",
      "Volume       2\n",
      "dtype: int64\n",
      "\n",
      "\n",
      "20\n",
      "12\n"
     ]
    }
   ],
   "source": [
    "import requests \n",
    "import pandas as pd\n",
    "import datetime\n",
    "\n",
    "\n",
    "missing_values= ['ERROR', '-', 'NaN']\n",
    "df = pd.read_csv(r\"/Users/erdauit/Desktop/Apple_price_to_clean.csv\", na_values = missing_values)\n",
    "# print(df)\n",
    "print(df.isnull().sum())\n",
    "print('\\n')\n",
    "errors = df.isnull().sum().sum()\n",
    "for index, lines in df.iterrows():\n",
    "    try:\n",
    "        a = int(lines['Date'])\n",
    "        print(a)\n",
    "        df.iloc[3, 3] = np.nan\n",
    "    except:\n",
    "        pass\n",
    "\n",
    "\n",
    "print(errors)\n",
    "\n",
    "# print(df)"
   ]
  },
  {
   "cell_type": "code",
   "execution_count": 49,
   "id": "71fa3df3",
   "metadata": {},
   "outputs": [
    {
     "name": "stdout",
     "output_type": "stream",
     "text": [
      "            Date        Open        High         Low       Close   Adj Close  \\\n",
      "0     2015-08-25   27.777500           -    0.000000   25.934999       ERROR   \n",
      "1     2015-08-26   26.772499   27.472500   26.262501   27.422501   25.039267   \n",
      "2     2015-08-27   28.057501   28.309999   27.504999   28.230000   25.776581   \n",
      "3     2015-08-28   28.042500   28.327499   27.885000   28.322500   25.861042   \n",
      "4     2015-08-31   28.007500   28.632500   28.000000   28.190001   25.740063   \n",
      "...          ...         ...         ...         ...         ...         ...   \n",
      "1769  2022-08-18  173.750000  174.899994  173.119995  174.149994  174.149994   \n",
      "1770  2022-08-19  173.029999  173.740005  171.309998  171.520004  171.520004   \n",
      "1771  2022-08-22  169.690002  169.860001  167.139999  167.570007  167.570007   \n",
      "1772  2022-08-23  167.080002  168.710007  166.649994  167.229996  167.229996   \n",
      "1773  2022-08-24  167.320007  168.110001  166.250000  167.529999  167.529999   \n",
      "\n",
      "         Volume  \n",
      "0     414406400  \n",
      "1     387098400  \n",
      "2     338464400  \n",
      "3         ERROR  \n",
      "4     224917200  \n",
      "...         ...  \n",
      "1769   62290100  \n",
      "1770   70211500  \n",
      "1771   69026800  \n",
      "1772   54147100  \n",
      "1773   53766800  \n",
      "\n",
      "[1774 rows x 7 columns]\n"
     ]
    }
   ],
   "source": [
    "import requests \n",
    "import pandas as pd\n",
    "import datetime\n",
    "\n",
    "missing_values= ['ERROR', '-', 'NaN']\n",
    "df = pd.read_csv(r\"/Users/erdauit/Desktop/Apple_price_to_clean.csv\")\n",
    "\n",
    "df.fillna(method = 'ffill', inplace = True)\n",
    "df.fillna(0, inplace = True)\n",
    "print(df)"
   ]
  },
  {
   "cell_type": "code",
   "execution_count": 61,
   "id": "6511c3c4",
   "metadata": {},
   "outputs": [
    {
     "name": "stdout",
     "output_type": "stream",
     "text": [
      "1774\n",
      "1763\n"
     ]
    }
   ],
   "source": [
    "import requests \n",
    "import pandas as pd\n",
    "import datetime\n",
    "\n",
    "df = pd.read_csv(r\"/Users/erdauit/Desktop/Apple_price_to_clean.csv\")\n",
    "print(len(df))\n",
    "df = df.drop_duplicates()\n",
    "print(len(df))"
   ]
  },
  {
   "cell_type": "code",
   "execution_count": 4,
   "id": "9fe74d67",
   "metadata": {},
   "outputs": [
    {
     "data": {
      "image/png": "[encoded data removed]",
      "text/plain": [
       "<Figure size 432x288 with 1 Axes>"
      ]
     },
     "metadata": {
      "needs_background": "light"
     },
     "output_type": "display_data"
    }
   ],
   "source": [
    "import requests \n",
    "import pandas as pd\n",
    "import datetime\n",
    "\n",
    "df = pd.read_csv(r\"/Users/erdauit/Desktop/Apple_price_to_clean.csv\")\n",
    "df = df[df[\"Low\"] < 200]\n",
    "df = df.plot(y = \"Low\", x = \"Date\")\n"
   ]
  },
  {
   "cell_type": "code",
   "execution_count": null,
   "id": "07b5abd4",
   "metadata": {},
   "outputs": [],
   "source": []
  },
  {
   "cell_type": "code",
   "execution_count": null,
   "id": "a3d19870",
   "metadata": {},
   "outputs": [],
   "source": []
  }
 ],
 "metadata": {
  "kernelspec": {
   "display_name": "Python 3 (ipykernel)",
   "language": "python",
   "name": "python3"
  },
  "language_info": {
   "codemirror_mode": {
    "name": "ipython",
    "version": 3
   },
   "file_extension": ".py",
   "mimetype": "text/x-python",
   "name": "python",
   "nbconvert_exporter": "python",
   "pygments_lexer": "ipython3",
   "version": "3.9.12"
  }
 },
 "nbformat": 4,
 "nbformat_minor": 5
}
