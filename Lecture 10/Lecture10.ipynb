{
 "cells": [
  {
   "cell_type": "code",
   "execution_count": 10,
   "id": "55fdb363",
   "metadata": {},
   "outputs": [],
   "source": [
    "import numpy as np\n",
    "import sklearn.linear_model as skmod\n",
    "\n"
   ]
  },
  {
   "cell_type": "code",
   "execution_count": 11,
   "id": "ee3f42cc",
   "metadata": {},
   "outputs": [
    {
     "name": "stdout",
     "output_type": "stream",
     "text": [
      "[[ 25]\n",
      " [100]\n",
      " [ 30]\n",
      " [  5]\n",
      " [ 85]]\n",
      "[[ 80]\n",
      " [254]\n",
      " [152]\n",
      " [  4]\n",
      " [271]]\n"
     ]
    }
   ],
   "source": [
    "alt = [25, 100, 30, 5, 85]\n",
    "n_goats = [80, 254, 152, 4, 271]\n",
    "\n",
    "arr_x = np.array(alt)\n",
    "arr_x = arr_x.reshape(-1,1)\n",
    "print(arr_x)\n",
    "arr_y = np.array(n_goats).reshape(-1,1)\n",
    "print(arr_y)"
   ]
  },
  {
   "cell_type": "code",
   "execution_count": 12,
   "id": "b98bdbcc",
   "metadata": {},
   "outputs": [
    {
     "data": {
      "text/plain": [
       "<matplotlib.collections.PathCollection at 0x7faa2801cf40>"
      ]
     },
     "execution_count": 12,
     "metadata": {},
     "output_type": "execute_result"
    },
    {
     "data": {
      "image/png": "[encoded data removed]",
      "text/plain": [
       "<Figure size 432x288 with 1 Axes>"
      ]
     },
     "metadata": {
      "needs_background": "light"
     },
     "output_type": "display_data"
    }
   ],
   "source": [
    "import matplotlib.pyplot as plt\n",
    "plt.scatter(arr_x, arr_y)"
   ]
  },
  {
   "cell_type": "code",
   "execution_count": 13,
   "id": "684e82a2",
   "metadata": {},
   "outputs": [],
   "source": [
    "model = skmod.LinearRegression()"
   ]
  },
  {
   "cell_type": "code",
   "execution_count": 14,
   "id": "2fdfc6bd",
   "metadata": {},
   "outputs": [],
   "source": [
    "model_trained = model.fit(arr_x, arr_y)"
   ]
  },
  {
   "cell_type": "code",
   "execution_count": 16,
   "id": "07ef5baf",
   "metadata": {},
   "outputs": [
    {
     "name": "stdout",
     "output_type": "stream",
     "text": [
      "2.618316100443131\n",
      "23.90251107828658\n",
      "0.8985431805527473\n"
     ]
    }
   ],
   "source": [
    "print(model_trained.coef_[0][0])\n",
    "print(model_trained.intercept_[0])\n",
    "\n",
    "print(model_trained.score(arr_x, arr_y))"
   ]
  },
  {
   "cell_type": "code",
   "execution_count": 11,
   "id": "d6d9740f",
   "metadata": {},
   "outputs": [
    {
     "data": {
      "text/plain": [
       "[<matplotlib.lines.Line2D at 0x7f8de0021e20>]"
      ]
     },
     "execution_count": 11,
     "metadata": {},
     "output_type": "execute_result"
    },
    {
     "data": {
      "image/png": "[encoded data removed]",
      "text/plain": [
       "<Figure size 432x288 with 1 Axes>"
      ]
     },
     "metadata": {
      "needs_background": "light"
     },
     "output_type": "display_data"
    }
   ],
   "source": [
    "plt.scatter(arr_x, arr_y)\n",
    "\n",
    "plt.plot([0, 100], [2.618*0 + 23.9, 2.618*100 + 23.9 ])"
   ]
  },
  {
   "cell_type": "code",
   "execution_count": 12,
   "id": "3c95eade",
   "metadata": {},
   "outputs": [
    {
     "name": "stdout",
     "output_type": "stream",
     "text": [
      "[[  0]\n",
      " [ 50]\n",
      " [100]]\n",
      "[[ 23.90251108]\n",
      " [154.8183161 ]\n",
      " [285.73412112]]\n"
     ]
    }
   ],
   "source": [
    "x_for_predict = np.array([[0], [50], [100]])\n",
    "print(x_for_predict)\n",
    "print(model.predict(x_for_predict))"
   ]
  },
  {
   "cell_type": "code",
   "execution_count": 15,
   "id": "d2ef1272",
   "metadata": {},
   "outputs": [
    {
     "name": "stdout",
     "output_type": "stream",
     "text": [
      "[154.8183161]\n"
     ]
    }
   ],
   "source": [
    "print(model.coef_[0]*50 + model.intercept_)"
   ]
  },
  {
   "cell_type": "code",
   "execution_count": 17,
   "id": "88638576",
   "metadata": {},
   "outputs": [
    {
     "name": "stdout",
     "output_type": "stream",
     "text": [
      "[[ 13 169]\n",
      " [  3   9]\n",
      " [ 17 289]\n",
      " [  0   0]\n",
      " [  2   4]]\n",
      "[[505]\n",
      " [ 35]\n",
      " [836]\n",
      " [ -6]\n",
      " [ 16]]\n"
     ]
    }
   ],
   "source": [
    "#Our data: the number of goats\n",
    "alt = [13, 3, 17, 0, 2]\n",
    "n_goats = [505, 35, 836, -6, 16]\n",
    "\n",
    "alt_sq = []\n",
    "for i in alt:\n",
    "    alt_sq.append(i**2)\n",
    "\n",
    "arr_x1 = np.array(alt).reshape(-1,1)\n",
    "arr_x2 = np.array(alt_sq).reshape(-1,1)\n",
    "arr_y = np.array(n_goats).reshape(-1,1)\n",
    "arr_x = np.hstack([arr_x1, arr_x2])\n",
    "print(arr_x)\n",
    "print(arr_y)"
   ]
  },
  {
   "cell_type": "code",
   "execution_count": 18,
   "id": "4cfc1d6d",
   "metadata": {},
   "outputs": [],
   "source": [
    "#Create the model and train it\n",
    "model = skmod.LinearRegression().fit(arr_x, arr_y)"
   ]
  },
  {
   "cell_type": "code",
   "execution_count": 21,
   "id": "110d3cbf",
   "metadata": {},
   "outputs": [
    {
     "name": "stdout",
     "output_type": "stream",
     "text": [
      "[[6.05253902 2.55824485]]\n",
      "[-6.15443798]\n",
      "0.9999998602607547\n"
     ]
    }
   ],
   "source": [
    "print(model.coef_)\n",
    "print(model.intercept_)\n",
    "print(model.score(arr_x, arr_y))"
   ]
  },
  {
   "cell_type": "code",
   "execution_count": 20,
   "id": "d3a2e2cb",
   "metadata": {},
   "outputs": [
    {
     "data": {
      "text/plain": [
       "[<matplotlib.lines.Line2D at 0x7f8df8ee8d00>]"
      ]
     },
     "execution_count": 20,
     "metadata": {},
     "output_type": "execute_result"
    },
    {
     "data": {
      "image/png": "[encoded data removed]",
      "text/plain": [
       "<Figure size 432x288 with 1 Axes>"
      ]
     },
     "metadata": {
      "needs_background": "light"
     },
     "output_type": "display_data"
    }
   ],
   "source": [
    "plt.scatter(arr_x1, arr_y)\n",
    "x_for_plot = np.arange(0.0,17.5) #range(0,17,5)\n",
    "x2_for_plot = x_for_plot*x_for_plot\n",
    "x_final = np.hstack([x_for_plot.reshape(-1,1),x2_for_plot.reshape(-1,1) ])\n",
    "y_for_plot = model.predict(x_final)\n",
    "plt.plot(x_for_plot, y_for_plot)\n"
   ]
  },
  {
   "cell_type": "code",
   "execution_count": null,
   "id": "7f0b0d7a",
   "metadata": {},
   "outputs": [],
   "source": []
  }
 ],
 "metadata": {
  "kernelspec": {
   "display_name": "Python 3 (ipykernel)",
   "language": "python",
   "name": "python3"
  },
  "language_info": {
   "codemirror_mode": {
    "name": "ipython",
    "version": 3
   },
   "file_extension": ".py",
   "mimetype": "text/x-python",
   "name": "python",
   "nbconvert_exporter": "python",
   "pygments_lexer": "ipython3",
   "version": "3.9.12"
  }
 },
 "nbformat": 4,
 "nbformat_minor": 5
}
